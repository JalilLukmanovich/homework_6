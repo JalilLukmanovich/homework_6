{
 "cells": [
  {
   "cell_type": "markdown",
   "metadata": {},
   "source": [
    "# Домашнее задание к лекции \"Регулярные выражения\"\n",
    "Для зачета необходимо выполнить 4 задания.  \n",
    "Для зачета с отличием – все."
   ]
  },
  {
   "cell_type": "markdown",
   "metadata": {},
   "source": [
    "## Задание 1"
   ]
  },
  {
   "cell_type": "markdown",
   "metadata": {},
   "source": [
    "Напишите функцию, которая принимает на вход строку и проверяет является ли она валидным транспортным номером. Если да, то функция должна возвращать отдельно номер и регион."
   ]
  },
  {
   "cell_type": "code",
   "execution_count": 30,
   "metadata": {},
   "outputs": [],
   "source": [
    "import re"
   ]
  },
  {
   "cell_type": "code",
   "execution_count": 54,
   "metadata": {},
   "outputs": [],
   "source": [
    "car_numbers = 'А351ВН777'"
   ]
  },
  {
   "cell_type": "code",
   "execution_count": 55,
   "metadata": {},
   "outputs": [],
   "source": [
    "regex_num = r'[А,В,Е,К,М,Н,О,Р,С,Т,У,Х]{1}\\d{3}[А,В,Е,К,М,Н,О,Р,С,Т,У,Х]{2}\\d{3}'"
   ]
  },
  {
   "cell_type": "code",
   "execution_count": 56,
   "metadata": {},
   "outputs": [
    {
     "name": "stdout",
     "output_type": "stream",
     "text": [
      "The car number - А351ВН, region number - 777 is valid\n"
     ]
    }
   ],
   "source": [
    "def valid_car_numbers(car_numbers):\n",
    "    if re.match(regex_num, car_numbers):\n",
    "        print(f\"The car number - {car_numbers[0:6]}, region number - {car_numbers[-3:]} is valid\")\n",
    "    else:\n",
    "        print('The number {} is invalid'.format(car_numbers))\n",
    "valid_car_numbers(car_numbers)"
   ]
  },
  {
   "cell_type": "markdown",
   "metadata": {},
   "source": [
    "## Задание 2"
   ]
  },
  {
   "cell_type": "markdown",
   "metadata": {},
   "source": [
    "Напишите функцию, которая проверяет e-mail адрес на валидность по стандарту RFC822: http://www.w3.org/Protocols/rfc822/. Для этого постарайтесь написать (в крайнем случае найти) самый полный шаблон для проверки e-mail адресов через регулярное выражение. Разберитесь и напишите примеры, какие ваш шаблон может не охватить."
   ]
  },
  {
   "cell_type": "code",
   "execution_count": 43,
   "metadata": {},
   "outputs": [],
   "source": [
    "mail = 'Thomas.Luckmann@gmail.com'"
   ]
  },
  {
   "cell_type": "code",
   "execution_count": 44,
   "metadata": {},
   "outputs": [],
   "source": [
    "аааа ='^[A-Za-z\\.\\-]{4,}@[-A-Za-z\\.]{2,}\\.[-A-Za-z]{2,4}$'"
   ]
  },
  {
   "cell_type": "code",
   "execution_count": 45,
   "metadata": {},
   "outputs": [
    {
     "data": {
      "text/plain": [
       "'Thomas.Luckmann@gmail.com'"
      ]
     },
     "execution_count": 45,
     "metadata": {},
     "output_type": "execute_result"
    }
   ],
   "source": [
    "result = re.match('^[A-Za-z\\.\\-]{4,}@[-A-Za-z\\.]{2,}\\.[-A-Za-z]{2,4}$', mail)\n",
    "result.group()"
   ]
  },
  {
   "cell_type": "markdown",
   "metadata": {},
   "source": [
    "## Задание 3\n",
    "Напишите функцию, которая будет удалять все последовательные повторы слов из заданной строки."
   ]
  },
  {
   "cell_type": "code",
   "execution_count": 73,
   "metadata": {},
   "outputs": [],
   "source": [
    "text = 'автомобиль автомобиль сигнал сигнал валюта'"
   ]
  },
  {
   "cell_type": "code",
   "execution_count": 76,
   "metadata": {},
   "outputs": [
    {
     "name": "stdout",
     "output_type": "stream",
     "text": [
      "автомобиль сигнал валюта\n"
     ]
    }
   ],
   "source": [
    "def re_duplicat(text):\n",
    "    print(re.sub(r'\\b([^\\W\\d_]+)(\\s+\\1)+\\b', r'\\1', re.sub(r'\\W+', ' ', text).strip(), flags=re.I))\n",
    "re_duplicat(text)"
   ]
  },
  {
   "cell_type": "markdown",
   "metadata": {},
   "source": [
    "## Задание 4\n",
    "Напишите функцию, которая будет проверять номер сотового телефона на валидность, если он валиден, то переводить его в формат:   \n",
    "+7(xxx)-xxx-xx-xx  \n",
    "Постарайтесь предусмотреть как можно больше адекватных форматов изначального ввода номера.\n",
    "Примеры правильных и неправильных форматов:\n",
    "- +7 955 555-55-55;\n",
    "- 955555555;\n",
    "- 8(955)555-55-55;\n",
    "- +7 955 555 55 55;\n",
    "- 7(955) 555-55-55;\n",
    "- +7 955+555+55+55."
   ]
  },
  {
   "cell_type": "code",
   "execution_count": 46,
   "metadata": {},
   "outputs": [],
   "source": [
    "numbers = ['+7 955 555-55-55', '955555555', '8(955)555-55-55', '+7 955 555 55 55', '7(955) 555-55-55', '+7 955+555+55+55']"
   ]
  },
  {
   "cell_type": "code",
   "execution_count": 47,
   "metadata": {},
   "outputs": [],
   "source": [
    "#    print(re.sub(r'^(\\+?7|8)?\\s?\\(?(\\d{3})\\)?\\W*(\\d{3})\\W*(\\d{2})\\W*(\\d{1,})$', r'+7(\\2)-\\3-\\4-\\5', number))\n",
    "regex_numbers = r'^(\\+?7|8)?\\s?\\(?(\\d{3})\\)?\\W*(\\d{3})\\W*(\\d{2})\\W*(\\d{2})$'"
   ]
  },
  {
   "cell_type": "code",
   "execution_count": 48,
   "metadata": {},
   "outputs": [],
   "source": [
    "repl = r'+7(\\2)-\\3-\\4-\\5'"
   ]
  },
  {
   "cell_type": "code",
   "execution_count": 49,
   "metadata": {},
   "outputs": [
    {
     "name": "stdout",
     "output_type": "stream",
     "text": [
      "The number +7(955)-555-55-55 is valid\n",
      "The number 955555555 is invalid\n",
      "The number +7(955)-555-55-55 is valid\n",
      "The number +7(955)-555-55-55 is valid\n",
      "The number +7(955)-555-55-55 is valid\n",
      "The number +7(955)-555-55-55 is valid\n"
     ]
    }
   ],
   "source": [
    "def valid_format_number(numbers):\n",
    "    for number in numbers:\n",
    "        if re.match(regex_numbers, number):\n",
    "            result = re.sub(regex_numbers, repl, number)\n",
    "            print('The number {} is valid'.format(result))\n",
    "        else:\n",
    "            print('The number {} is invalid'.format(number))\n",
    "valid_format_number(numbers)"
   ]
  },
  {
   "cell_type": "code",
   "execution_count": null,
   "metadata": {},
   "outputs": [],
   "source": []
  }
 ],
 "metadata": {
  "kernelspec": {
   "display_name": "Python 3",
   "language": "python",
   "name": "python3"
  },
  "language_info": {
   "codemirror_mode": {
    "name": "ipython",
    "version": 3
   },
   "file_extension": ".py",
   "mimetype": "text/x-python",
   "name": "python",
   "nbconvert_exporter": "python",
   "pygments_lexer": "ipython3",
   "version": "3.7.4"
  }
 },
 "nbformat": 4,
 "nbformat_minor": 2
}
