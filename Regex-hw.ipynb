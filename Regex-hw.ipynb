{
 "cells": [
  {
   "cell_type": "markdown",
   "metadata": {},
   "source": [
    "# Домашнее задание к лекции \"Регулярные выражения\"\n",
    "Для зачета необходимо выполнить 4 задания.  \n",
    "Для зачета с отличием – все."
   ]
  },
  {
   "cell_type": "markdown",
   "metadata": {},
   "source": [
    "## Задание 1"
   ]
  },
  {
   "cell_type": "markdown",
   "metadata": {},
   "source": [
    "Напишите функцию, которая принимает на вход строку и проверяет является ли она валидным транспортным номером. Если да, то функция должна возвращать отдельно номер и регион."
   ]
  },
  {
   "cell_type": "code",
   "execution_count": 1,
   "metadata": {},
   "outputs": [],
   "source": [
    "import re"
   ]
  },
  {
   "cell_type": "code",
   "execution_count": 51,
   "metadata": {},
   "outputs": [],
   "source": [
    "number = 'K351YH51RUS'"
   ]
  },
  {
   "cell_type": "code",
   "execution_count": 52,
   "metadata": {},
   "outputs": [],
   "source": [
    "result = re.findall('[A-Z]{1}\\d{3}[A-Z]{2}\\d{2}[A-Z]{3}', number)"
   ]
  },
  {
   "cell_type": "code",
   "execution_count": 53,
   "metadata": {},
   "outputs": [
    {
     "name": "stdout",
     "output_type": "stream",
     "text": [
      "['K351YH51RUS']\n"
     ]
    }
   ],
   "source": [
    "print(result)"
   ]
  },
  {
   "cell_type": "markdown",
   "metadata": {},
   "source": [
    "## Задание 2"
   ]
  },
  {
   "cell_type": "markdown",
   "metadata": {},
   "source": [
    "Напишите функцию, которая проверяет e-mail адрес на валидность по стандарту RFC822: http://www.w3.org/Protocols/rfc822/. Для этого постарайтесь написать (в крайнем случае найти) самый полный шаблон для проверки e-mail адресов через регулярное выражение. Разберитесь и напишите примеры, какие ваш шаблон может не охватить."
   ]
  },
  {
   "cell_type": "code",
   "execution_count": null,
   "metadata": {},
   "outputs": [],
   "source": []
  },
  {
   "cell_type": "markdown",
   "metadata": {},
   "source": [
    "## Задание 3\n",
    "Напишите функцию, которая будет удалять все последовательные повторы слов из заданной строки."
   ]
  },
  {
   "cell_type": "code",
   "execution_count": 16,
   "metadata": {},
   "outputs": [],
   "source": [
    "text = 'автомобиль автомобиль сигнал сигнал валюта валюта'"
   ]
  },
  {
   "cell_type": "code",
   "execution_count": 17,
   "metadata": {},
   "outputs": [
    {
     "name": "stdout",
     "output_type": "stream",
     "text": [
      "автомобиль сигнал валюта\n"
     ]
    }
   ],
   "source": [
    "#text1 = re.findall('(\\w+\\s\\w+)+', text)\n",
    "print( re.sub(r'\\b([^\\W\\d_]+)(\\s+\\1)+\\b', r'\\1', re.sub(r'\\W+', ' ', text).strip(), flags=re.I) )"
   ]
  },
  {
   "cell_type": "markdown",
   "metadata": {},
   "source": [
    "## Задание 4\n",
    "Напишите функцию, которая будет проверять номер сотового телефона на валидность, если он валиден, то переводить его в формат:   \n",
    "+7(xxx)-xxx-xx-xx  \n",
    "Постарайтесь предусмотреть как можно больше адекватных форматов изначального ввода номера.\n",
    "Примеры правильных и неправильных форматов:\n",
    "- +7 955 555-55-55;\n",
    "- 955555555;\n",
    "- 8(955)555-55-55;\n",
    "- +7 955 555 55 55;\n",
    "- 7(955) 555-55-55;\n",
    "- +7 955+555+55+55."
   ]
  },
  {
   "cell_type": "code",
   "execution_count": 9,
   "metadata": {},
   "outputs": [],
   "source": [
    "numbers = ['+7 955 555-55-55', '955555555', '8(955)555-55-55', '+7 955 555 55 55', '7(955) 555-55-55', '+7 955+555+55+55']"
   ]
  },
  {
   "cell_type": "code",
   "execution_count": 10,
   "metadata": {},
   "outputs": [],
   "source": [
    "#regex_numbers = '^(8|(\\+?7?\\s?))?\\(?d{3}\\)? ?[\\d\\-? ?]{7,10}$'\n",
    "regex_numbers = r'^(\\+?7|8)?\\s?\\(?(\\d{3})\\)?\\W*(\\d{3})\\W*(\\d{2})\\W*(\\d{1})$'"
   ]
  },
  {
   "cell_type": "code",
   "execution_count": 11,
   "metadata": {},
   "outputs": [],
   "source": [
    "repl = r'+7(\\2)-\\3-\\4-\\5'"
   ]
  },
  {
   "cell_type": "code",
   "execution_count": 12,
   "metadata": {},
   "outputs": [
    {
     "name": "stdout",
     "output_type": "stream",
     "text": [
      "The email +7 955 555-55-55 is invalid\n",
      "The email 955555555 is valid\n",
      "The email 8(955)555-55-55 is invalid\n",
      "The email +7 955 555 55 55 is invalid\n",
      "The email 7(955) 555-55-55 is invalid\n",
      "The email +7 955+555+55+55 is invalid\n"
     ]
    }
   ],
   "source": [
    "for number in numbers:\n",
    "    if re.match(regex_numbers, number):\n",
    "        print('The email {} is valid'.format(number))\n",
    "    else:\n",
    "        print('The email {} is invalid'.format(number))"
   ]
  },
  {
   "cell_type": "code",
   "execution_count": 13,
   "metadata": {},
   "outputs": [
    {
     "name": "stdout",
     "output_type": "stream",
     "text": [
      "+7(955)-555-55-55\n",
      "+7(955)-555-55-5\n",
      "+7(955)-555-55-55\n",
      "+7(955)-555-55-55\n",
      "+7(955)-555-55-55\n",
      "+7(955)-555-55-55\n"
     ]
    }
   ],
   "source": [
    "for number in numbers:\n",
    "    print(re.sub(r'^(\\+?7|8)?\\s?\\(?(\\d{3})\\)?\\W*(\\d{3})\\W*(\\d{2})\\W*(\\d{1,})$', r'+7(\\2)-\\3-\\4-\\5', number))"
   ]
  },
  {
   "cell_type": "code",
   "execution_count": 59,
   "metadata": {},
   "outputs": [
    {
     "data": {
      "text/plain": [
       "'+7(955)-555-55-55'"
      ]
     },
     "execution_count": 59,
     "metadata": {},
     "output_type": "execute_result"
    }
   ],
   "source": [
    "re.sub(r'^(\\+?7|8)?\\s?\\(?(\\d{3})\\)?\\W*(\\d{3})\\W*(\\d{2})\\W*(\\d{1,})$', r'+7(\\2)-\\3-\\4-\\5', '+7 955 555-55-55')"
   ]
  }
 ],
 "metadata": {
  "kernelspec": {
   "display_name": "Python 3",
   "language": "python",
   "name": "python3"
  },
  "language_info": {
   "codemirror_mode": {
    "name": "ipython",
    "version": 3
   },
   "file_extension": ".py",
   "mimetype": "text/x-python",
   "name": "python",
   "nbconvert_exporter": "python",
   "pygments_lexer": "ipython3",
   "version": "3.7.4"
  }
 },
 "nbformat": 4,
 "nbformat_minor": 2
}
